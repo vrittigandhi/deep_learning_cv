{
  "nbformat": 4,
  "nbformat_minor": 0,
  "metadata": {
    "colab": {
      "name": "Extracting Frames - groundshots and service.ipynb",
      "provenance": [],
      "collapsed_sections": []
    },
    "kernelspec": {
      "name": "python3",
      "display_name": "Python 3"
    },
    "language_info": {
      "name": "python"
    },
    "accelerator": "GPU"
  },
  "cells": [
    {
      "cell_type": "markdown",
      "source": [
        "## Importing Libraries"
      ],
      "metadata": {
        "id": "wjiJWhKBnESZ"
      }
    },
    {
      "cell_type": "code",
      "execution_count": null,
      "metadata": {
        "id": "3_QOVwYsgZSn"
      },
      "outputs": [],
      "source": [
        "#importing libraries\n",
        "import pandas as pd\n",
        "import numpy as np\n",
        "import dask.array as da\n",
        "from skimage.transform import resize"
      ]
    },
    {
      "cell_type": "code",
      "source": [
        "from google.colab import drive\n",
        "drive.mount('/content/drive')"
      ],
      "metadata": {
        "colab": {
          "base_uri": "https://localhost:8080/"
        },
        "id": "dA8-z90Mn_R1",
        "outputId": "84dae391-25b4-457e-80c0-70fc66d8cb14"
      },
      "execution_count": null,
      "outputs": [
        {
          "output_type": "stream",
          "name": "stdout",
          "text": [
            "Drive already mounted at /content/drive; to attempt to forcibly remount, call drive.mount(\"/content/drive\", force_remount=True).\n"
          ]
        }
      ]
    },
    {
      "cell_type": "code",
      "source": [
        "# !pip install keras-video-generators"
      ],
      "metadata": {
        "id": "PgqxgJUegesE"
      },
      "execution_count": null,
      "outputs": []
    },
    {
      "cell_type": "code",
      "source": [
        "import os\n",
        "import glob\n",
        "import keras\n",
        "\n",
        "from tensorflow.keras.utils import Sequence"
      ],
      "metadata": {
        "id": "SIwlesSPgt-U"
      },
      "execution_count": null,
      "outputs": []
    },
    {
      "cell_type": "code",
      "source": [
        "import cv2     # for capturing videos\n",
        "import math   # for mathematical operations\n",
        "import matplotlib.pyplot as plt    # for plotting the images\n",
        "%matplotlib inline\n",
        "import pandas as pd\n",
        "from keras.preprocessing import image   # for preprocessing the images\n",
        "import numpy as np    # for mathematical operations\n",
        "from keras.utils import np_utils\n",
        "from skimage.transform import resize   # for resizing images\n",
        "import os"
      ],
      "metadata": {
        "id": "_oUeykDChHph"
      },
      "execution_count": null,
      "outputs": []
    },
    {
      "cell_type": "code",
      "source": [
        "import tensorflow\n",
        "import keras\n",
        "from tensorflow.keras.datasets import mnist\n",
        "from tensorflow.keras.models import Sequential\n",
        "from tensorflow.keras.layers import Dense, Dropout, Flatten,BatchNormalization\n",
        "from tensorflow.keras.layers import Conv2D, MaxPooling2D, MaxPooling3D, Conv3D\n",
        "from tensorflow.keras import backend as K\n",
        "from tensorflow.keras import regularizers\n",
        "from keras.regularizers import l2"
      ],
      "metadata": {
        "id": "RZmninpvF84S"
      },
      "execution_count": null,
      "outputs": []
    },
    {
      "cell_type": "code",
      "source": [
        "# %pwd\n",
        "# %ls drive/MyDrive/Deep\\ Learning\\ Project/frames\n",
        "# f.head()\n",
        "\n",
        "# from google.colab import drive\n",
        "# drive.mount('/content/drive')"
      ],
      "metadata": {
        "id": "QaA4lrT-DZtv"
      },
      "execution_count": null,
      "outputs": []
    },
    {
      "cell_type": "markdown",
      "source": [
        "# Extracting Frames"
      ],
      "metadata": {
        "id": "LySEtZ7xny35"
      }
    },
    {
      "cell_type": "markdown",
      "source": [
        "The below function should extract exactly 4 frames from the video between the 1st and the 2nd second."
      ],
      "metadata": {
        "id": "2YeZxnRwn8Q7"
      }
    },
    {
      "cell_type": "code",
      "source": [
        "def to_frames_2(shot):\n",
        "  count = 0\n",
        "\n",
        "  #Initialising the X and Y variables. The mapping dataframe can be converted for one-hot encoded for image labelling.\n",
        "  mapping = pd.DataFrame(columns = ['frames', 'labels', 'video'])\n",
        "\n",
        "  #extracting frames from each image in the dataset\n",
        "  for j in range(len(shot)):\n",
        "    subf = f[f['shots'] == shot[j]].reset_index()\n",
        "    image_data = []\n",
        "    for i in range(len(subf)):\n",
        "      videoFile = subf['links'][i]\n",
        "      # print(videoFile)\n",
        "      # img2 = []\n",
        "      cap = cv2.VideoCapture(videoFile)   # capturing the video from the given path\n",
        "      frameRate = cap.get(5) #frame rate\n",
        "      x=1\n",
        "      count_frames = 0\n",
        "      while(cap.isOpened()):\n",
        "          frameId = cap.get(1) #current frame number\n",
        "          ret, frame = cap.read()\n",
        "          if (ret != True):\n",
        "              break\n",
        "          # print(frameId)\n",
        "          if ((frameId > frameRate*1) & (frameId < frameRate*2) & (frameId % 3 == 0) & (frameRate >= 12)):\n",
        "              count_frames+=1\n",
        "              if (count_frames <= 4):\n",
        "                filename = subf['save'][i] + \"frame%d.jpg\" % count\n",
        "                # print(filename)\n",
        "                cv2.imwrite(filename, frame)\n",
        "                mapping = mapping.append({\n",
        "                    'frames' : \"frame%d\" % count,\n",
        "                    'labels' : subf['shots'][i],\n",
        "                    'video' : count_frames\n",
        "                }, ignore_index = True)\n",
        "                img = plt.imread('' + filename)\n",
        "                image_data.append(img)\n",
        "                # img2.append(img)\n",
        "                count+=1\n",
        "              else:\n",
        "                continue\n",
        "      # print(count_frames)\n",
        "      cap.release()\n",
        "      # img3 = np.array(img2).reshape()\n",
        "    image_data = np.array(image_data)\n",
        "    np.save(subf['save'][0] + 'x_new_' + shot[j] + '.npy', image_data)\n",
        "  print (\"Done!\")\n",
        "  return mapping"
      ],
      "metadata": {
        "id": "diXkTuw6uTyc"
      },
      "execution_count": null,
      "outputs": []
    },
    {
      "cell_type": "markdown",
      "source": [
        "## Extracting Ground Shots"
      ],
      "metadata": {
        "id": "785A7XhA-cuR"
      }
    },
    {
      "cell_type": "code",
      "source": [
        "#string paths from where the videos will be read and frames will be saved.\n",
        "directory = '/content/drive/MyDrive/MScA - UChicago/Assignments/Quarter 3 - Spring 2022/Deep Learning/Data For Project/Frames_binary/vids/'\n",
        "saving_dir = '/content/drive/MyDrive/MScA - UChicago/Assignments/Quarter 3 - Spring 2022/Deep Learning/Data For Project/Frames_binary/groundshots-frames2/'\n",
        "\n",
        "\n",
        "#shots = ['backhand', 'backhand2hands', 'backhand_slice', 'backhand_volley', 'flat_service', 'forehand_flat', 'forehand_openstands', 'forehand_slice', 'forehand_volley', 'kick_service', 'slice_service', 'smash']\n",
        "\n",
        "shots = ['backhand2hands','forehand_flat']\n",
        "\n",
        "#creating a dataframe to store all the paths\n",
        "f = pd.DataFrame(columns = ['shots', 'links', 'save'])\n",
        "\n",
        "for i in shots:\n",
        "  paths = directory + i + \"/\"\n",
        "  saving_path = saving_dir\n",
        "  for filename in os.listdir(paths):\n",
        "      f = f.append({\n",
        "          'shots': i,\n",
        "          'links': (os.path.join(paths,filename)),\n",
        "          'save' : (os.path.join(saving_path)),\n",
        "      }, ignore_index = True)"
      ],
      "metadata": {
        "id": "R4TR4jer549D"
      },
      "execution_count": null,
      "outputs": []
    },
    {
      "cell_type": "code",
      "source": [
        "%%time\n",
        "mapping = to_frames_2(['backhand2hands','forehand_flat'])"
      ],
      "metadata": {
        "colab": {
          "base_uri": "https://localhost:8080/"
        },
        "id": "FDt9WPQbusrT",
        "outputId": "a9dc0423-415a-4b36-a290-284e0b39f659"
      },
      "execution_count": null,
      "outputs": [
        {
          "output_type": "stream",
          "name": "stdout",
          "text": [
            "Done!\n",
            "CPU times: user 1min 21s, sys: 4.9 s, total: 1min 25s\n",
            "Wall time: 1min 27s\n"
          ]
        }
      ]
    },
    {
      "cell_type": "code",
      "source": [
        "mapping['groundshots'] = 1\n",
        "mapping['service'] = 0"
      ],
      "metadata": {
        "id": "GAVTFLZK9IB-"
      },
      "execution_count": null,
      "outputs": []
    },
    {
      "cell_type": "code",
      "source": [
        "mapping"
      ],
      "metadata": {
        "colab": {
          "base_uri": "https://localhost:8080/",
          "height": 419
        },
        "id": "nZQQ0BSxzgG9",
        "outputId": "14350bb6-5775-4619-bf70-0cf3844ef2a4"
      },
      "execution_count": null,
      "outputs": [
        {
          "output_type": "execute_result",
          "data": {
            "text/plain": [
              "         frames          labels video  groundshots  service\n",
              "0        frame0  backhand2hands     1            1        0\n",
              "1        frame1  backhand2hands     2            1        0\n",
              "2        frame2  backhand2hands     3            1        0\n",
              "3        frame3  backhand2hands     4            1        0\n",
              "4        frame4  backhand2hands     1            1        0\n",
              "...         ...             ...   ...          ...      ...\n",
              "1303  frame1303   forehand_flat     4            1        0\n",
              "1304  frame1304   forehand_flat     1            1        0\n",
              "1305  frame1305   forehand_flat     2            1        0\n",
              "1306  frame1306   forehand_flat     3            1        0\n",
              "1307  frame1307   forehand_flat     4            1        0\n",
              "\n",
              "[1308 rows x 5 columns]"
            ],
            "text/html": [
              "\n",
              "  <div id=\"df-a46e4a3e-25cc-46dd-b0f9-2ec729cd9d47\">\n",
              "    <div class=\"colab-df-container\">\n",
              "      <div>\n",
              "<style scoped>\n",
              "    .dataframe tbody tr th:only-of-type {\n",
              "        vertical-align: middle;\n",
              "    }\n",
              "\n",
              "    .dataframe tbody tr th {\n",
              "        vertical-align: top;\n",
              "    }\n",
              "\n",
              "    .dataframe thead th {\n",
              "        text-align: right;\n",
              "    }\n",
              "</style>\n",
              "<table border=\"1\" class=\"dataframe\">\n",
              "  <thead>\n",
              "    <tr style=\"text-align: right;\">\n",
              "      <th></th>\n",
              "      <th>frames</th>\n",
              "      <th>labels</th>\n",
              "      <th>video</th>\n",
              "      <th>groundshots</th>\n",
              "      <th>service</th>\n",
              "    </tr>\n",
              "  </thead>\n",
              "  <tbody>\n",
              "    <tr>\n",
              "      <th>0</th>\n",
              "      <td>frame0</td>\n",
              "      <td>backhand2hands</td>\n",
              "      <td>1</td>\n",
              "      <td>1</td>\n",
              "      <td>0</td>\n",
              "    </tr>\n",
              "    <tr>\n",
              "      <th>1</th>\n",
              "      <td>frame1</td>\n",
              "      <td>backhand2hands</td>\n",
              "      <td>2</td>\n",
              "      <td>1</td>\n",
              "      <td>0</td>\n",
              "    </tr>\n",
              "    <tr>\n",
              "      <th>2</th>\n",
              "      <td>frame2</td>\n",
              "      <td>backhand2hands</td>\n",
              "      <td>3</td>\n",
              "      <td>1</td>\n",
              "      <td>0</td>\n",
              "    </tr>\n",
              "    <tr>\n",
              "      <th>3</th>\n",
              "      <td>frame3</td>\n",
              "      <td>backhand2hands</td>\n",
              "      <td>4</td>\n",
              "      <td>1</td>\n",
              "      <td>0</td>\n",
              "    </tr>\n",
              "    <tr>\n",
              "      <th>4</th>\n",
              "      <td>frame4</td>\n",
              "      <td>backhand2hands</td>\n",
              "      <td>1</td>\n",
              "      <td>1</td>\n",
              "      <td>0</td>\n",
              "    </tr>\n",
              "    <tr>\n",
              "      <th>...</th>\n",
              "      <td>...</td>\n",
              "      <td>...</td>\n",
              "      <td>...</td>\n",
              "      <td>...</td>\n",
              "      <td>...</td>\n",
              "    </tr>\n",
              "    <tr>\n",
              "      <th>1303</th>\n",
              "      <td>frame1303</td>\n",
              "      <td>forehand_flat</td>\n",
              "      <td>4</td>\n",
              "      <td>1</td>\n",
              "      <td>0</td>\n",
              "    </tr>\n",
              "    <tr>\n",
              "      <th>1304</th>\n",
              "      <td>frame1304</td>\n",
              "      <td>forehand_flat</td>\n",
              "      <td>1</td>\n",
              "      <td>1</td>\n",
              "      <td>0</td>\n",
              "    </tr>\n",
              "    <tr>\n",
              "      <th>1305</th>\n",
              "      <td>frame1305</td>\n",
              "      <td>forehand_flat</td>\n",
              "      <td>2</td>\n",
              "      <td>1</td>\n",
              "      <td>0</td>\n",
              "    </tr>\n",
              "    <tr>\n",
              "      <th>1306</th>\n",
              "      <td>frame1306</td>\n",
              "      <td>forehand_flat</td>\n",
              "      <td>3</td>\n",
              "      <td>1</td>\n",
              "      <td>0</td>\n",
              "    </tr>\n",
              "    <tr>\n",
              "      <th>1307</th>\n",
              "      <td>frame1307</td>\n",
              "      <td>forehand_flat</td>\n",
              "      <td>4</td>\n",
              "      <td>1</td>\n",
              "      <td>0</td>\n",
              "    </tr>\n",
              "  </tbody>\n",
              "</table>\n",
              "<p>1308 rows × 5 columns</p>\n",
              "</div>\n",
              "      <button class=\"colab-df-convert\" onclick=\"convertToInteractive('df-a46e4a3e-25cc-46dd-b0f9-2ec729cd9d47')\"\n",
              "              title=\"Convert this dataframe to an interactive table.\"\n",
              "              style=\"display:none;\">\n",
              "        \n",
              "  <svg xmlns=\"http://www.w3.org/2000/svg\" height=\"24px\"viewBox=\"0 0 24 24\"\n",
              "       width=\"24px\">\n",
              "    <path d=\"M0 0h24v24H0V0z\" fill=\"none\"/>\n",
              "    <path d=\"M18.56 5.44l.94 2.06.94-2.06 2.06-.94-2.06-.94-.94-2.06-.94 2.06-2.06.94zm-11 1L8.5 8.5l.94-2.06 2.06-.94-2.06-.94L8.5 2.5l-.94 2.06-2.06.94zm10 10l.94 2.06.94-2.06 2.06-.94-2.06-.94-.94-2.06-.94 2.06-2.06.94z\"/><path d=\"M17.41 7.96l-1.37-1.37c-.4-.4-.92-.59-1.43-.59-.52 0-1.04.2-1.43.59L10.3 9.45l-7.72 7.72c-.78.78-.78 2.05 0 2.83L4 21.41c.39.39.9.59 1.41.59.51 0 1.02-.2 1.41-.59l7.78-7.78 2.81-2.81c.8-.78.8-2.07 0-2.86zM5.41 20L4 18.59l7.72-7.72 1.47 1.35L5.41 20z\"/>\n",
              "  </svg>\n",
              "      </button>\n",
              "      \n",
              "  <style>\n",
              "    .colab-df-container {\n",
              "      display:flex;\n",
              "      flex-wrap:wrap;\n",
              "      gap: 12px;\n",
              "    }\n",
              "\n",
              "    .colab-df-convert {\n",
              "      background-color: #E8F0FE;\n",
              "      border: none;\n",
              "      border-radius: 50%;\n",
              "      cursor: pointer;\n",
              "      display: none;\n",
              "      fill: #1967D2;\n",
              "      height: 32px;\n",
              "      padding: 0 0 0 0;\n",
              "      width: 32px;\n",
              "    }\n",
              "\n",
              "    .colab-df-convert:hover {\n",
              "      background-color: #E2EBFA;\n",
              "      box-shadow: 0px 1px 2px rgba(60, 64, 67, 0.3), 0px 1px 3px 1px rgba(60, 64, 67, 0.15);\n",
              "      fill: #174EA6;\n",
              "    }\n",
              "\n",
              "    [theme=dark] .colab-df-convert {\n",
              "      background-color: #3B4455;\n",
              "      fill: #D2E3FC;\n",
              "    }\n",
              "\n",
              "    [theme=dark] .colab-df-convert:hover {\n",
              "      background-color: #434B5C;\n",
              "      box-shadow: 0px 1px 3px 1px rgba(0, 0, 0, 0.15);\n",
              "      filter: drop-shadow(0px 1px 2px rgba(0, 0, 0, 0.3));\n",
              "      fill: #FFFFFF;\n",
              "    }\n",
              "  </style>\n",
              "\n",
              "      <script>\n",
              "        const buttonEl =\n",
              "          document.querySelector('#df-a46e4a3e-25cc-46dd-b0f9-2ec729cd9d47 button.colab-df-convert');\n",
              "        buttonEl.style.display =\n",
              "          google.colab.kernel.accessAllowed ? 'block' : 'none';\n",
              "\n",
              "        async function convertToInteractive(key) {\n",
              "          const element = document.querySelector('#df-a46e4a3e-25cc-46dd-b0f9-2ec729cd9d47');\n",
              "          const dataTable =\n",
              "            await google.colab.kernel.invokeFunction('convertToInteractive',\n",
              "                                                     [key], {});\n",
              "          if (!dataTable) return;\n",
              "\n",
              "          const docLinkHtml = 'Like what you see? Visit the ' +\n",
              "            '<a target=\"_blank\" href=https://colab.research.google.com/notebooks/data_table.ipynb>data table notebook</a>'\n",
              "            + ' to learn more about interactive tables.';\n",
              "          element.innerHTML = '';\n",
              "          dataTable['output_type'] = 'display_data';\n",
              "          await google.colab.output.renderOutput(dataTable, element);\n",
              "          const docLink = document.createElement('div');\n",
              "          docLink.innerHTML = docLinkHtml;\n",
              "          element.appendChild(docLink);\n",
              "        }\n",
              "      </script>\n",
              "    </div>\n",
              "  </div>\n",
              "  "
            ]
          },
          "metadata": {},
          "execution_count": 86
        }
      ]
    },
    {
      "cell_type": "markdown",
      "source": [
        "## Extracting Service Shots"
      ],
      "metadata": {
        "id": "47N4sqOD-fBy"
      }
    },
    {
      "cell_type": "code",
      "source": [
        "#string paths from where the videos will be read and frames will be saved.\n",
        "directory = '/content/drive/MyDrive/MScA - UChicago/Assignments/Quarter 3 - Spring 2022/Deep Learning/Data For Project/Frames_binary/vids/'\n",
        "saving_dir = '/content/drive/MyDrive/MScA - UChicago/Assignments/Quarter 3 - Spring 2022/Deep Learning/Data For Project/Frames_binary/service-frames2/'\n",
        "\n",
        "\n",
        "#shots = ['backhand', 'backhand2hands', 'backhand_slice', 'backhand_volley', 'flat_service', 'forehand_flat', 'forehand_openstands', 'forehand_slice', 'forehand_volley', 'kick_service', 'slice_service', 'smash']\n",
        "\n",
        "shots = ['flat_service', 'kick_service', 'slice_service']\n",
        "\n",
        "#creating a dataframe to store all the paths\n",
        "f = pd.DataFrame(columns = ['shots', 'links', 'save'])\n",
        "\n",
        "for i in shots:\n",
        "  paths = directory + i + \"/\"\n",
        "  saving_path = saving_dir\n",
        "  for filename in os.listdir(paths):\n",
        "      f = f.append({\n",
        "          'shots': i,\n",
        "          'links': (os.path.join(paths,filename)),\n",
        "          'save' : (os.path.join(saving_path)),\n",
        "      }, ignore_index = True)"
      ],
      "metadata": {
        "id": "M_JYBExU-Pwo"
      },
      "execution_count": null,
      "outputs": []
    },
    {
      "cell_type": "code",
      "source": [
        "mapping2 = to_frames_2(['flat_service', 'kick_service', 'slice_service'])"
      ],
      "metadata": {
        "colab": {
          "base_uri": "https://localhost:8080/"
        },
        "id": "cCadxEr6-u2y",
        "outputId": "adaea19b-7674-4435-e6fc-bc6dc649e46b"
      },
      "execution_count": null,
      "outputs": [
        {
          "output_type": "stream",
          "name": "stdout",
          "text": [
            "Done!\n"
          ]
        }
      ]
    },
    {
      "cell_type": "code",
      "source": [
        "mapping2['groundshots'] = 0\n",
        "mapping2['service'] = 1"
      ],
      "metadata": {
        "id": "XRSe9jiH-0fC"
      },
      "execution_count": null,
      "outputs": []
    },
    {
      "cell_type": "markdown",
      "source": [
        "## Merging and combining dataset for training"
      ],
      "metadata": {
        "id": "74FYykt5oJZj"
      }
    },
    {
      "cell_type": "code",
      "source": [
        "y_ground = np.array(mapping[['groundshots', 'service']])"
      ],
      "metadata": {
        "id": "asX-YRQbA50u"
      },
      "execution_count": null,
      "outputs": []
    },
    {
      "cell_type": "code",
      "source": [
        "y_service = np.array(mapping2[['groundshots', 'service']])"
      ],
      "metadata": {
        "id": "b_ewt9iMBGi3"
      },
      "execution_count": null,
      "outputs": []
    },
    {
      "cell_type": "code",
      "source": [
        "np.save(\"/content/drive/MyDrive/MScA - UChicago/Assignments/Quarter 3 - Spring 2022/Deep Learning/Data For Project/Frames_binary/groundshots-frames2/y_ground.npy\", y_ground)"
      ],
      "metadata": {
        "id": "-op-rJ5OBK51"
      },
      "execution_count": null,
      "outputs": []
    },
    {
      "cell_type": "code",
      "source": [
        "np.save(\"/content/drive/MyDrive/MScA - UChicago/Assignments/Quarter 3 - Spring 2022/Deep Learning/Data For Project/Frames_binary/service-frames2/y_service.npy\", y_service)"
      ],
      "metadata": {
        "id": "ZHlU2e-fBMAk"
      },
      "execution_count": null,
      "outputs": []
    },
    {
      "cell_type": "code",
      "source": [
        "x1 = np.load(\"/content/drive/MyDrive/MScA - UChicago/Assignments/Quarter 3 - Spring 2022/Deep Learning/Data For Project/Frames_binary/groundshots-frames2/x_new_backhand2hands.npy\")\n",
        "x2 = np.load(\"/content/drive/MyDrive/MScA - UChicago/Assignments/Quarter 3 - Spring 2022/Deep Learning/Data For Project/Frames_binary/groundshots-frames2/x_new_forehand_flat.npy\")\n",
        "\n",
        "x_new = np.append(x1, x2, axis=0)\n",
        "\n",
        "np.save(\"/content/drive/MyDrive/MScA - UChicago/Assignments/Quarter 3 - Spring 2022/Deep Learning/Data For Project/Frames_binary/groundshots-frames2/x_new.npy\", x_new)\n",
        "\n",
        "x_1_1 = np.load(\"/content/drive/MyDrive/MScA - UChicago/Assignments/Quarter 3 - Spring 2022/Deep Learning/Data For Project/Frames_binary/service-frames2/x_new_flat_service.npy\")\n",
        "x_2_2 = np.load(\"/content/drive/MyDrive/MScA - UChicago/Assignments/Quarter 3 - Spring 2022/Deep Learning/Data For Project/Frames_binary/service-frames2/x_new_kick_service.npy\")\n",
        "x_3_3 = np.load(\"/content/drive/MyDrive/MScA - UChicago/Assignments/Quarter 3 - Spring 2022/Deep Learning/Data For Project/Frames_binary/service-frames2/x_new_slice_service.npy\")\n",
        "\n",
        "x_new = np.array([])\n",
        "x_new = np.append(x_1_1, x_2_2, axis=0)\n",
        "del x_1_1, x_2_2\n",
        "x_new = np.append(x_new,x_3_3, axis=0)\n",
        "del x_3_3\n",
        "\n",
        "np.save(\"/content/drive/MyDrive/MScA - UChicago/Assignments/Quarter 3 - Spring 2022/Deep Learning/Data For Project/Frames_binary/service-frames2/x_new.npy\", x_new)"
      ],
      "metadata": {
        "id": "CAWqi6ekBbYH"
      },
      "execution_count": null,
      "outputs": []
    },
    {
      "cell_type": "markdown",
      "source": [
        "## Reloading and combining the data"
      ],
      "metadata": {
        "id": "8px0_X-O9n6Q"
      }
    },
    {
      "cell_type": "code",
      "source": [
        "x_ground = np.load(\"/content/drive/MyDrive/MScA - UChicago/Assignments/Quarter 3 - Spring 2022/Deep Learning/Data For Project/Frames_binary/groundshots-frames2/x_new.npy\")\n",
        "x_service = np.load(\"/content/drive/MyDrive/MScA - UChicago/Assignments/Quarter 3 - Spring 2022/Deep Learning/Data For Project/Frames_binary/service-frames2/x_new.npy\")\n",
        "y_ground = np.load(\"/content/drive/MyDrive/MScA - UChicago/Assignments/Quarter 3 - Spring 2022/Deep Learning/Data For Project/Frames_binary/groundshots-frames2/y_ground.npy\")\n",
        "y_service = np.load(\"/content/drive/MyDrive/MScA - UChicago/Assignments/Quarter 3 - Spring 2022/Deep Learning/Data For Project/Frames_binary/service-frames2/y_service.npy\")"
      ],
      "metadata": {
        "id": "Wfhs5S1c-Hx5"
      },
      "execution_count": null,
      "outputs": []
    },
    {
      "cell_type": "code",
      "source": [
        "x_new = np.append(x_ground, x_service, axis=0)\n",
        "x_new.shape"
      ],
      "metadata": {
        "colab": {
          "base_uri": "https://localhost:8080/"
        },
        "id": "WuqLNrgK-YEd",
        "outputId": "aa7f050a-ea2b-41ec-f48d-47e28173763b"
      },
      "execution_count": null,
      "outputs": [
        {
          "output_type": "execute_result",
          "data": {
            "text/plain": [
              "(3288, 480, 640, 3)"
            ]
          },
          "metadata": {},
          "execution_count": 9
        }
      ]
    },
    {
      "cell_type": "code",
      "source": [
        "y_new = np.append(y_ground, y_service, axis=0)\n",
        "y_new.shape"
      ],
      "metadata": {
        "colab": {
          "base_uri": "https://localhost:8080/"
        },
        "id": "NJhVeGyl-fq_",
        "outputId": "e7707d0c-e747-4f31-c394-95eb193ab624"
      },
      "execution_count": null,
      "outputs": [
        {
          "output_type": "execute_result",
          "data": {
            "text/plain": [
              "(3288, 2)"
            ]
          },
          "metadata": {},
          "execution_count": 10
        }
      ]
    },
    {
      "cell_type": "code",
      "source": [
        "x_train = x_new[0:916]\n",
        "x_test = x_new[916:1308]\n",
        "x_train = np.append(x_train, x_new[1308:2696], axis=0)\n",
        "x_test = np.append(x_test, x_new[2696:], axis=0)\n",
        "\n",
        "y_train = y_new[0:916]\n",
        "y_test = y_new[916:1308]\n",
        "y_train = np.append(y_train, y_new[1308:2696], axis=0)\n",
        "y_test = np.append(y_test, y_new[2696:], axis=0)"
      ],
      "metadata": {
        "id": "X9JL-dd3_SU_"
      },
      "execution_count": null,
      "outputs": []
    },
    {
      "cell_type": "code",
      "source": [
        "print(x_train.shape)\n",
        "print(x_test.shape)\n",
        "print(y_train.shape)\n",
        "print(y_test.shape)"
      ],
      "metadata": {
        "colab": {
          "base_uri": "https://localhost:8080/"
        },
        "id": "gy0u645__8qh",
        "outputId": "a749a8e5-580a-48e9-edb1-bb08f0de98fb"
      },
      "execution_count": null,
      "outputs": [
        {
          "output_type": "stream",
          "name": "stdout",
          "text": [
            "(2304, 480, 640, 3)\n",
            "(984, 480, 640, 3)\n",
            "(2304, 2)\n",
            "(984, 2)\n"
          ]
        }
      ]
    },
    {
      "cell_type": "code",
      "source": [
        "del x_new, y_new, y_ground, y_service, x_ground, x_service"
      ],
      "metadata": {
        "id": "Br2yLnAwDo38"
      },
      "execution_count": null,
      "outputs": []
    },
    {
      "cell_type": "markdown",
      "source": [
        "## resizing Images"
      ],
      "metadata": {
        "id": "_QugqYI8_Ijo"
      }
    },
    {
      "cell_type": "code",
      "source": [
        "x_train_resized = []\n",
        "x_test_resized = []\n",
        "\n",
        "for i in x_train:\n",
        "    x_train_resized.append(resize(i, (120, 160)))\n",
        "\n",
        "for i in x_test:\n",
        "    x_test_resized.append(resize(i, (120, 160)))\n",
        "\n",
        "x_train_resized = np.array(x_train_resized)\n",
        "x_test_resized = np.array(x_test_resized)\n",
        "\n",
        "print(x_train_resized.shape, x_test_resized.shape)"
      ],
      "metadata": {
        "colab": {
          "base_uri": "https://localhost:8080/"
        },
        "id": "QX7IEuP0-XHE",
        "outputId": "b3731c0b-386e-410e-d1dd-e3ece2ffc648"
      },
      "execution_count": null,
      "outputs": [
        {
          "output_type": "stream",
          "name": "stdout",
          "text": [
            "(2304, 120, 160, 3) (984, 120, 160, 3)\n"
          ]
        }
      ]
    },
    {
      "cell_type": "code",
      "source": [
        "del x_train, x_test"
      ],
      "metadata": {
        "id": "DH-iTJlhEkbx"
      },
      "execution_count": null,
      "outputs": []
    },
    {
      "cell_type": "markdown",
      "source": [
        "## Making the 3d array into 4d"
      ],
      "metadata": {
        "id": "XiWo6RLtBwjF"
      }
    },
    {
      "cell_type": "code",
      "source": [
        "x_train_vids = x_train_resized[0:4][np.newaxis,...]\n",
        "\n",
        "for i in range(4,x_train_resized.shape[0],4):\n",
        "    sample = x_train_resized[i:i+4]\n",
        "    sample = sample[np.newaxis,...]\n",
        "    x_train_vids = np.append(x_train_vids,sample,axis=0)"
      ],
      "metadata": {
        "id": "4BiohDlGBy3H"
      },
      "execution_count": null,
      "outputs": []
    },
    {
      "cell_type": "code",
      "source": [
        "x_train_resized.shape"
      ],
      "metadata": {
        "colab": {
          "base_uri": "https://localhost:8080/"
        },
        "id": "4PiHCDUbC60E",
        "outputId": "5a34bd1a-46f3-474c-f518-07fb8c618b9f"
      },
      "execution_count": null,
      "outputs": [
        {
          "data": {
            "text/plain": [
              "(2304, 120, 160, 3)"
            ]
          },
          "execution_count": null,
          "metadata": {},
          "output_type": "execute_result"
        }
      ]
    },
    {
      "cell_type": "code",
      "source": [
        "x_train_vids.shape"
      ],
      "metadata": {
        "colab": {
          "base_uri": "https://localhost:8080/"
        },
        "id": "nxrrMMcXCMxA",
        "outputId": "8e8e6faf-ff73-4192-c29c-1e9943e0f68f"
      },
      "execution_count": null,
      "outputs": [
        {
          "data": {
            "text/plain": [
              "(576, 4, 120, 160, 3)"
            ]
          },
          "execution_count": null,
          "metadata": {},
          "output_type": "execute_result"
        }
      ]
    },
    {
      "cell_type": "code",
      "source": [
        "x_test_vids = x_test_resized[0:4][np.newaxis,...]\n",
        "\n",
        "for i in range(4,x_test_resized.shape[0],4):\n",
        "    sample = x_test_resized[i:i+4]\n",
        "    sample = sample[np.newaxis,...]\n",
        "    x_test_vids = np.append(x_test_vids,sample,axis=0)"
      ],
      "metadata": {
        "id": "lL5SmaW4B57v"
      },
      "execution_count": null,
      "outputs": []
    },
    {
      "cell_type": "code",
      "source": [
        "x_test_vids.shape"
      ],
      "metadata": {
        "id": "uzr0zDhcCOkQ"
      },
      "execution_count": null,
      "outputs": []
    },
    {
      "cell_type": "code",
      "source": [
        "y_train_vids = y_train[::4]\n",
        "y_train_vids.shape\n",
        "\n",
        "y_test_vids = y_test[::4]\n",
        "y_train_vids.shape"
      ],
      "metadata": {
        "colab": {
          "base_uri": "https://localhost:8080/"
        },
        "id": "y_gFBZI0CQRK",
        "outputId": "5e572860-263c-4ca9-9267-c674e3aeebc7"
      },
      "execution_count": null,
      "outputs": [
        {
          "output_type": "execute_result",
          "data": {
            "text/plain": [
              "(576, 2)"
            ]
          },
          "metadata": {},
          "execution_count": 14
        }
      ]
    },
    {
      "cell_type": "code",
      "source": [
        "np.save(\"/content/drive/MyDrive/MScA - UChicago/Assignments/Quarter 3 - Spring 2022/Deep Learning/Data For Project/Frames_binary/x_train_vids.npy\", x_train_vids)\n",
        "np.save(\"/content/drive/MyDrive/MScA - UChicago/Assignments/Quarter 3 - Spring 2022/Deep Learning/Data For Project/Frames_binary/x_test_vids.npy\", x_test_vids)\n",
        "np.save(\"/content/drive/MyDrive/MScA - UChicago/Assignments/Quarter 3 - Spring 2022/Deep Learning/Data For Project/Frames_binary/y_train.npy\", y_train)\n",
        "np.save(\"/content/drive/MyDrive/MScA - UChicago/Assignments/Quarter 3 - Spring 2022/Deep Learning/Data For Project/Frames_binary/y_test.npy\", y_test)"
      ],
      "metadata": {
        "id": "fGhdyvyiCljU"
      },
      "execution_count": null,
      "outputs": []
    }
  ]
}