{
 "cells": [
  {
   "cell_type": "markdown",
   "id": "b8832845",
   "metadata": {},
   "source": [
    "## Importing libraries"
   ]
  },
  {
   "cell_type": "code",
   "execution_count": 30,
   "id": "c9ee5a05",
   "metadata": {},
   "outputs": [],
   "source": [
    "#importing libraries\n",
    "import pandas as pd\n",
    "import numpy as np\n",
    "import dask.array as da\n",
    "\n",
    "import os\n",
    "import glob\n",
    "import keras\n",
    "\n",
    "from tensorflow.keras.utils import Sequence\n",
    "import tensorflow\n",
    "import keras\n",
    "from tensorflow.keras.datasets import mnist\n",
    "from tensorflow.keras.models import Sequential\n",
    "from tensorflow.keras.layers import Dense, Dropout, Flatten,BatchNormalization\n",
    "from tensorflow.keras.layers import Conv2D, MaxPooling2D\n",
    "from tensorflow.keras import backend as K\n",
    "\n",
    "#import cv2     # for capturing videos\n",
    "import math   # for mathematical operations\n",
    "import matplotlib.pyplot as plt    # for plotting the images\n",
    "%matplotlib inline\n",
    "import pandas as pd\n",
    "from keras.preprocessing import image   # for preprocessing the images\n",
    "import numpy as np    # for mathematical operations\n",
    "from keras.utils import np_utils\n",
    "from skimage.transform import resize   # for resizing images\n",
    "import os\n",
    "from sklearn.model_selection import train_test_split\n",
    "import sklearn.metrics as metrics\n",
    "import seaborn as sns"
   ]
  },
  {
   "cell_type": "markdown",
   "id": "776d8095",
   "metadata": {},
   "source": [
    "## Reading in data"
   ]
  },
  {
   "cell_type": "code",
   "execution_count": 2,
   "id": "b0eac750",
   "metadata": {},
   "outputs": [],
   "source": [
    "x_ground = np.load('data/x_ground.npy')\n",
    "y_ground = np.load('data/y_ground.npy')\n",
    "\n",
    "x_service = np.load('data/x_service.npy')\n",
    "y_service = np.load('data/y_service.npy')\n"
   ]
  },
  {
   "cell_type": "code",
   "execution_count": 3,
   "id": "b5b737d8",
   "metadata": {},
   "outputs": [
    {
     "name": "stdout",
     "output_type": "stream",
     "text": [
      "(1776, 480, 640, 3)\n",
      "(2553, 480, 640, 3)\n"
     ]
    }
   ],
   "source": [
    "print(x_ground.shape)\n",
    "print(x_service.shape)\n"
   ]
  },
  {
   "cell_type": "code",
   "execution_count": 4,
   "id": "b8335a4f",
   "metadata": {},
   "outputs": [
    {
     "data": {
      "text/plain": [
       "array([[1, 0],\n",
       "       [1, 0],\n",
       "       [1, 0],\n",
       "       ...,\n",
       "       [1, 0],\n",
       "       [1, 0],\n",
       "       [1, 0]])"
      ]
     },
     "execution_count": 4,
     "metadata": {},
     "output_type": "execute_result"
    }
   ],
   "source": [
    "y_ground"
   ]
  },
  {
   "cell_type": "code",
   "execution_count": 5,
   "id": "a1fcff11",
   "metadata": {},
   "outputs": [
    {
     "data": {
      "text/plain": [
       "array([[0, 1],\n",
       "       [0, 1],\n",
       "       [0, 1],\n",
       "       ...,\n",
       "       [0, 1],\n",
       "       [0, 1],\n",
       "       [0, 1]])"
      ]
     },
     "execution_count": 5,
     "metadata": {},
     "output_type": "execute_result"
    }
   ],
   "source": [
    "y_service\n"
   ]
  },
  {
   "cell_type": "markdown",
   "id": "f00a9c6c",
   "metadata": {},
   "source": [
    "## Combine groundstrokes and serve data"
   ]
  },
  {
   "cell_type": "code",
   "execution_count": 6,
   "id": "a4f94312",
   "metadata": {},
   "outputs": [],
   "source": [
    "x = np.append(x_ground,x_service,axis=0)\n",
    "y = np.append(y_ground,y_service,axis=0)\n"
   ]
  },
  {
   "cell_type": "code",
   "execution_count": 7,
   "id": "67605951",
   "metadata": {},
   "outputs": [],
   "source": [
    "# resizing frames\n",
    "\n",
    "x_resized = []\n",
    "\n",
    "for i in x:\n",
    "    x_resized.append(resize(i,(120,160)))\n",
    "\n",
    "x_resized = np.array(x_resized)\n"
   ]
  },
  {
   "cell_type": "code",
   "execution_count": 8,
   "id": "a5dd68c8",
   "metadata": {},
   "outputs": [
    {
     "data": {
      "text/plain": [
       "(4329, 120, 160, 3)"
      ]
     },
     "execution_count": 8,
     "metadata": {},
     "output_type": "execute_result"
    }
   ],
   "source": [
    "x_resized.shape\n"
   ]
  },
  {
   "cell_type": "code",
   "execution_count": 9,
   "id": "e3dc1e34",
   "metadata": {},
   "outputs": [],
   "source": [
    "X_train, X_test, y_train, y_test = train_test_split(x_resized, y, train_size = 0.8, test_size = 0.2, random_state = 42, stratify = y)"
   ]
  },
  {
   "cell_type": "markdown",
   "id": "0d5d48cb",
   "metadata": {},
   "source": [
    "## Model building and training"
   ]
  },
  {
   "cell_type": "code",
   "execution_count": 10,
   "id": "1232a1a2",
   "metadata": {},
   "outputs": [
    {
     "name": "stdout",
     "output_type": "stream",
     "text": [
      "Metal device set to: Apple M1 Pro\n"
     ]
    },
    {
     "name": "stderr",
     "output_type": "stream",
     "text": [
      "2022-05-31 02:17:34.992946: I tensorflow/core/common_runtime/pluggable_device/pluggable_device_factory.cc:305] Could not identify NUMA node of platform GPU ID 0, defaulting to 0. Your kernel may not have been built with NUMA support.\n",
      "2022-05-31 02:17:34.993203: I tensorflow/core/common_runtime/pluggable_device/pluggable_device_factory.cc:271] Created TensorFlow device (/job:localhost/replica:0/task:0/device:GPU:0 with 0 MB memory) -> physical PluggableDevice (device: 0, name: METAL, pci bus id: <undefined>)\n"
     ]
    }
   ],
   "source": [
    "#Using Keras Sequential API\n",
    "\n",
    "batch_size = 128\n",
    "num_classes = 2\n",
    "epochs = 100\n",
    "\n",
    "# input image dimensions\n",
    "img_rows, img_cols = 120, 160\n",
    "\n",
    "\n",
    "model = Sequential()\n",
    "\n",
    "model.add(Conv2D(32, kernel_size=(3, 3),\n",
    "                 activation='relu',\n",
    "                 input_shape=(img_rows, img_cols, 3)))\n",
    "\n",
    "# model.add(MaxPooling2D(pool_size=(2, 2),padding='SAME'))\n",
    "# model.add(BatchNormalization())\n",
    "\n",
    "model.add(Conv2D(64, (3, 3), activation='relu'))\n",
    "#model.add(MaxPooling2D(pool_size=(2, 2),padding='SAME'))\n",
    "model.add(BatchNormalization())\n",
    "\n",
    "\n",
    "model.add(Conv2D(64, (4, 4), activation='relu',padding='SAME'))\n",
    "model.add(MaxPooling2D(pool_size=(2, 2),padding='SAME'))\n",
    "model.add(BatchNormalization())\n",
    "\n",
    "\n",
    "# model.add(Conv2D(256, (5, 5), activation='relu',padding='SAME'))\n",
    "# model.add(MaxPooling2D(pool_size=(2, 2),padding='SAME'))\n",
    "# model.add(BatchNormalization())\n",
    "\n",
    "\n",
    "# model.add(Conv2D(512, (5, 5), activation='relu',padding='SAME'))\n",
    "# model.add(MaxPooling2D(pool_size=(2, 2),padding='SAME'))\n",
    "# model.add(BatchNormalization())\n",
    "\n",
    "\n",
    "# model.add(Conv2D(1024, (5, 5), activation='relu',padding='SAME'))\n",
    "# model.add(MaxPooling2D(pool_size=(2, 2),padding='SAME'))\n",
    "# model.add(BatchNormalization())\n",
    "\n",
    "\n",
    "# model.add(Conv2D(128, (7, 7), activation='relu'))\n",
    "# model.add(MaxPooling2D(pool_size=(2, 2)))\n",
    "# model.add(Dropout(0.25))\n",
    "\n",
    "model.add(Flatten())\n",
    "# model.add(Dense(16384, activation='relu'))\n",
    "# model.add(Dense(1024, activation='relu'))\n",
    "# model.add(Dense(64, activation='relu'))\n",
    "# model.add(Dropout(0.5))\n",
    "model.add(Dense(num_classes, activation='softmax'))\n"
   ]
  },
  {
   "cell_type": "code",
   "execution_count": 11,
   "id": "f1423a49",
   "metadata": {},
   "outputs": [
    {
     "name": "stdout",
     "output_type": "stream",
     "text": [
      "Model: \"sequential\"\n",
      "_________________________________________________________________\n",
      " Layer (type)                Output Shape              Param #   \n",
      "=================================================================\n",
      " conv2d (Conv2D)             (None, 118, 158, 32)      896       \n",
      "                                                                 \n",
      " conv2d_1 (Conv2D)           (None, 116, 156, 64)      18496     \n",
      "                                                                 \n",
      " batch_normalization (BatchN  (None, 116, 156, 64)     256       \n",
      " ormalization)                                                   \n",
      "                                                                 \n",
      " conv2d_2 (Conv2D)           (None, 116, 156, 64)      65600     \n",
      "                                                                 \n",
      " max_pooling2d (MaxPooling2D  (None, 58, 78, 64)       0         \n",
      " )                                                               \n",
      "                                                                 \n",
      " batch_normalization_1 (Batc  (None, 58, 78, 64)       256       \n",
      " hNormalization)                                                 \n",
      "                                                                 \n",
      " flatten (Flatten)           (None, 289536)            0         \n",
      "                                                                 \n",
      " dense (Dense)               (None, 2)                 579074    \n",
      "                                                                 \n",
      "=================================================================\n",
      "Total params: 664,578\n",
      "Trainable params: 664,322\n",
      "Non-trainable params: 256\n",
      "_________________________________________________________________\n"
     ]
    }
   ],
   "source": [
    "model.summary()\n"
   ]
  },
  {
   "cell_type": "code",
   "execution_count": 12,
   "id": "48551984",
   "metadata": {},
   "outputs": [],
   "source": [
    "model.compile(loss=keras.losses.categorical_crossentropy,\n",
    "              optimizer=tensorflow.keras.optimizers.Adam(learning_rate=0.01),\n",
    "              metrics=['accuracy'])\n"
   ]
  },
  {
   "cell_type": "code",
   "execution_count": 13,
   "id": "7bc6f74b",
   "metadata": {
    "scrolled": false
   },
   "outputs": [
    {
     "name": "stdout",
     "output_type": "stream",
     "text": [
      "Epoch 1/100\n"
     ]
    },
    {
     "name": "stderr",
     "output_type": "stream",
     "text": [
      "2022-05-31 02:17:51.271785: W tensorflow/core/platform/profile_utils/cpu_utils.cc:128] Failed to get CPU frequency: 0 Hz\n",
      "2022-05-31 02:17:51.625398: I tensorflow/core/grappler/optimizers/custom_graph_optimizer_registry.cc:113] Plugin optimizer for device_type GPU is enabled.\n"
     ]
    },
    {
     "name": "stdout",
     "output_type": "stream",
     "text": [
      "28/28 [==============================] - ETA: 0s - loss: 196.8538 - accuracy: 0.6050"
     ]
    },
    {
     "name": "stderr",
     "output_type": "stream",
     "text": [
      "2022-05-31 02:18:08.497860: I tensorflow/core/grappler/optimizers/custom_graph_optimizer_registry.cc:113] Plugin optimizer for device_type GPU is enabled.\n"
     ]
    },
    {
     "name": "stdout",
     "output_type": "stream",
     "text": [
      "28/28 [==============================] - 18s 592ms/step - loss: 196.8538 - accuracy: 0.6050 - val_loss: 1384.1172 - val_accuracy: 0.6005\n",
      "Epoch 2/100\n",
      "28/28 [==============================] - 16s 582ms/step - loss: 40.1515 - accuracy: 0.7586 - val_loss: 913.5950 - val_accuracy: 0.5993\n",
      "Epoch 3/100\n",
      "28/28 [==============================] - 16s 576ms/step - loss: 34.9390 - accuracy: 0.7802 - val_loss: 266.6032 - val_accuracy: 0.5843\n",
      "Epoch 4/100\n",
      "28/28 [==============================] - 16s 583ms/step - loss: 62.4918 - accuracy: 0.7401 - val_loss: 179.2664 - val_accuracy: 0.6697\n",
      "Epoch 5/100\n",
      "28/28 [==============================] - 16s 582ms/step - loss: 25.2165 - accuracy: 0.8276 - val_loss: 90.2763 - val_accuracy: 0.6697\n",
      "Epoch 6/100\n",
      "28/28 [==============================] - 16s 575ms/step - loss: 17.0927 - accuracy: 0.8464 - val_loss: 75.6136 - val_accuracy: 0.6674\n",
      "Epoch 7/100\n",
      "28/28 [==============================] - 16s 576ms/step - loss: 24.1417 - accuracy: 0.8181 - val_loss: 34.7350 - val_accuracy: 0.7852\n",
      "Epoch 8/100\n",
      "28/28 [==============================] - 16s 576ms/step - loss: 11.5453 - accuracy: 0.8773 - val_loss: 32.2622 - val_accuracy: 0.7748\n",
      "Epoch 9/100\n",
      "28/28 [==============================] - 16s 570ms/step - loss: 12.7269 - accuracy: 0.8790 - val_loss: 12.6355 - val_accuracy: 0.8753\n",
      "Epoch 10/100\n",
      "28/28 [==============================] - 16s 571ms/step - loss: 16.1714 - accuracy: 0.8571 - val_loss: 26.8809 - val_accuracy: 0.7991\n",
      "Epoch 11/100\n",
      "28/28 [==============================] - 16s 570ms/step - loss: 24.7313 - accuracy: 0.8461 - val_loss: 20.8181 - val_accuracy: 0.8360\n",
      "Epoch 12/100\n",
      "28/28 [==============================] - 16s 574ms/step - loss: 10.9045 - accuracy: 0.8914 - val_loss: 12.3702 - val_accuracy: 0.8557\n",
      "Epoch 13/100\n",
      "28/28 [==============================] - 16s 568ms/step - loss: 4.8084 - accuracy: 0.9264 - val_loss: 10.3573 - val_accuracy: 0.8938\n",
      "Epoch 14/100\n",
      "28/28 [==============================] - 16s 567ms/step - loss: 5.0854 - accuracy: 0.9235 - val_loss: 8.0409 - val_accuracy: 0.9088\n",
      "Epoch 15/100\n",
      "28/28 [==============================] - 16s 572ms/step - loss: 6.9775 - accuracy: 0.9036 - val_loss: 32.6010 - val_accuracy: 0.7737\n",
      "Epoch 16/100\n",
      "28/28 [==============================] - 16s 568ms/step - loss: 7.9891 - accuracy: 0.9059 - val_loss: 25.1891 - val_accuracy: 0.7760\n",
      "Epoch 17/100\n",
      "28/28 [==============================] - 16s 583ms/step - loss: 11.1069 - accuracy: 0.8851 - val_loss: 8.1053 - val_accuracy: 0.9088\n",
      "Epoch 18/100\n",
      "28/28 [==============================] - 16s 565ms/step - loss: 5.6524 - accuracy: 0.9223 - val_loss: 22.6438 - val_accuracy: 0.7968\n",
      "Epoch 19/100\n",
      "28/28 [==============================] - 16s 568ms/step - loss: 10.3344 - accuracy: 0.8897 - val_loss: 25.2940 - val_accuracy: 0.7667\n",
      "Epoch 20/100\n",
      "28/28 [==============================] - 16s 566ms/step - loss: 3.3750 - accuracy: 0.9402 - val_loss: 15.4317 - val_accuracy: 0.8233\n",
      "Epoch 21/100\n",
      "28/28 [==============================] - 16s 576ms/step - loss: 2.8061 - accuracy: 0.9457 - val_loss: 6.4500 - val_accuracy: 0.8764\n",
      "Epoch 22/100\n",
      "28/28 [==============================] - 16s 566ms/step - loss: 6.1848 - accuracy: 0.9168 - val_loss: 9.8467 - val_accuracy: 0.8972\n",
      "Epoch 23/100\n",
      "28/28 [==============================] - 16s 565ms/step - loss: 2.4706 - accuracy: 0.9518 - val_loss: 25.5223 - val_accuracy: 0.7956\n",
      "Epoch 24/100\n",
      "28/28 [==============================] - 16s 571ms/step - loss: 7.6346 - accuracy: 0.9056 - val_loss: 24.2573 - val_accuracy: 0.8395\n",
      "Epoch 25/100\n",
      "28/28 [==============================] - 16s 564ms/step - loss: 9.1647 - accuracy: 0.9070 - val_loss: 17.9393 - val_accuracy: 0.8326\n",
      "Epoch 26/100\n",
      "28/28 [==============================] - 16s 567ms/step - loss: 8.6980 - accuracy: 0.9012 - val_loss: 45.3593 - val_accuracy: 0.7413\n",
      "Epoch 27/100\n",
      "28/28 [==============================] - 16s 573ms/step - loss: 21.6954 - accuracy: 0.8478 - val_loss: 23.3473 - val_accuracy: 0.8268\n",
      "Epoch 28/100\n",
      "28/28 [==============================] - 16s 569ms/step - loss: 8.8833 - accuracy: 0.9018 - val_loss: 7.0450 - val_accuracy: 0.9122\n",
      "Epoch 29/100\n",
      "28/28 [==============================] - 16s 567ms/step - loss: 9.2398 - accuracy: 0.8981 - val_loss: 9.1971 - val_accuracy: 0.8938\n",
      "Epoch 30/100\n",
      "28/28 [==============================] - 16s 564ms/step - loss: 4.9721 - accuracy: 0.9324 - val_loss: 10.5919 - val_accuracy: 0.8510\n",
      "Epoch 31/100\n",
      "28/28 [==============================] - 16s 573ms/step - loss: 5.8887 - accuracy: 0.9232 - val_loss: 8.8357 - val_accuracy: 0.8834\n"
     ]
    }
   ],
   "source": [
    "history = model.fit(X_train, y_train,\n",
    "          batch_size=batch_size,\n",
    "          epochs=epochs,\n",
    "          verbose=1,\n",
    "          validation_data=(X_test, y_test),\n",
    "          callbacks=keras.callbacks.EarlyStopping(patience=10,restore_best_weights=True)\n",
    "                   )\n"
   ]
  },
  {
   "cell_type": "code",
   "execution_count": 14,
   "id": "6a621004",
   "metadata": {},
   "outputs": [],
   "source": [
    "score1 = model.evaluate(X_test, y_test, verbose=0)\n",
    "score2 = model.evaluate(X_train, y_train, verbose=0)\n"
   ]
  },
  {
   "cell_type": "code",
   "execution_count": 15,
   "id": "2f68820f",
   "metadata": {},
   "outputs": [
    {
     "name": "stdout",
     "output_type": "stream",
     "text": [
      "Test loss: [6.450009822845459, 0.8764433860778809]\n",
      "Train loss: [3.3866405487060547, 0.9347386956214905]\n"
     ]
    }
   ],
   "source": [
    "print('Test loss:', score1)\n",
    "print('Train loss:', score2)"
   ]
  },
  {
   "cell_type": "code",
   "execution_count": 28,
   "id": "abf880ae",
   "metadata": {},
   "outputs": [
    {
     "data": {
      "image/png": "[encoded data removed]",
      "text/plain": [
       "<Figure size 576x432 with 1 Axes>"
      ]
     },
     "metadata": {},
     "output_type": "display_data"
    }
   ],
   "source": [
    "sns.set(font_scale=1.7)\n",
    "plt.figure(figsize=[8,6])\n",
    "plt.plot(history.history['loss'],'r',linewidth=3.0)\n",
    "plt.plot(history.history['val_loss'],'b',linewidth=3.0)\n",
    "plt.legend(['Training loss', 'Validation Loss'],fontsize=18)\n",
    "plt.xlabel('Epochs ',fontsize=16)\n",
    "plt.ylabel('Loss',fontsize=16)\n",
    "plt.title('Loss Curves',fontsize=16)\n",
    "plt.tight_layout()\n",
    "plt.savefig('binary_loss_curve.jpg')"
   ]
  },
  {
   "cell_type": "code",
   "execution_count": 32,
   "id": "68d7354b",
   "metadata": {},
   "outputs": [],
   "source": [
    "shots = ['groundstroke','serve']\n",
    "\n",
    "y_pred = model.predict(X_test)\n",
    "pred_labels = np.argmax(y_pred,axis=1)\n",
    "true_labels = np.argmax(y_test,axis=1)\n"
   ]
  },
  {
   "cell_type": "code",
   "execution_count": 34,
   "id": "66222b9d",
   "metadata": {
    "scrolled": true
   },
   "outputs": [
    {
     "name": "stdout",
     "output_type": "stream",
     "text": [
      "              precision    recall  f1-score   support\n",
      "\n",
      "groundstroke       0.84      0.86      0.85       355\n",
      "       serve       0.90      0.88      0.89       511\n",
      "\n",
      "    accuracy                           0.88       866\n",
      "   macro avg       0.87      0.87      0.87       866\n",
      "weighted avg       0.88      0.88      0.88       866\n",
      "\n"
     ]
    }
   ],
   "source": [
    "print(metrics.classification_report(true_labels,pred_labels,target_names=shots))"
   ]
  },
  {
   "cell_type": "code",
   "execution_count": 40,
   "id": "1f33c505",
   "metadata": {},
   "outputs": [],
   "source": [
    "conf_matrix = metrics.confusion_matrix(true_labels,pred_labels)\n",
    "df_cm = pd.DataFrame(conf_matrix, index = [i for i in shots],columns = [i for i in shots])"
   ]
  },
  {
   "cell_type": "code",
   "execution_count": 46,
   "id": "e0265c8d",
   "metadata": {},
   "outputs": [
    {
     "data": {
      "image/png": "[encoded data removed]",
      "text/plain": [
       "<Figure size 576x576 with 2 Axes>"
      ]
     },
     "metadata": {},
     "output_type": "display_data"
    }
   ],
   "source": [
    "plt.figure(figsize=(8,8))\n",
    "sns.set(font_scale=3)\n",
    "ax = sns.heatmap(df_cm,annot=True,fmt='')\n",
    "ax.set_xlabel('Predicted Class',fontsize=30,labelpad=20)\n",
    "ax.set_ylabel('True Class',fontsize=30,labelpad=20)\n",
    "plt.tight_layout()\n",
    "plt.savefig('binary_confusion_matrix.jpg')"
   ]
  },
  {
   "cell_type": "code",
   "execution_count": null,
   "id": "ece405d0",
   "metadata": {},
   "outputs": [],
   "source": []
  },
  {
   "cell_type": "code",
   "execution_count": 47,
   "id": "fd35d20f",
   "metadata": {},
   "outputs": [
    {
     "data": {
      "text/plain": [
       "{'status': 'ok', 'restart': True}"
      ]
     },
     "execution_count": 47,
     "metadata": {},
     "output_type": "execute_result"
    }
   ],
   "source": [
    "import IPython\n",
    "app = IPython.Application.instance()\n",
    "app.kernel.do_shutdown(True)"
   ]
  },
  {
   "cell_type": "code",
   "execution_count": null,
   "id": "295dacba",
   "metadata": {},
   "outputs": [],
   "source": []
  }
 ],
 "metadata": {
  "kernelspec": {
   "display_name": "Python 3 (ipykernel)",
   "language": "python",
   "name": "python3"
  },
  "language_info": {
   "codemirror_mode": {
    "name": "ipython",
    "version": 3
   },
   "file_extension": ".py",
   "mimetype": "text/x-python",
   "name": "python",
   "nbconvert_exporter": "python",
   "pygments_lexer": "ipython3",
   "version": "3.9.12"
  }
 },
 "nbformat": 4,
 "nbformat_minor": 5
}
