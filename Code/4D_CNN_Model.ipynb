{
  "nbformat": 4,
  "nbformat_minor": 0,
  "metadata": {
    "colab": {
      "name": "4D CNN Model.ipynb",
      "provenance": [],
      "collapsed_sections": []
    },
    "kernelspec": {
      "name": "python3",
      "display_name": "Python 3"
    },
    "language_info": {
      "name": "python"
    }
  },
  "cells": [
    {
      "cell_type": "markdown",
      "source": [
        "# Importing Libraries"
      ],
      "metadata": {
        "id": "hFySddA9pEuY"
      }
    },
    {
      "cell_type": "code",
      "execution_count": null,
      "metadata": {
        "id": "3_QOVwYsgZSn"
      },
      "outputs": [],
      "source": [
        "#importing libraries\n",
        "import pandas as pd\n",
        "import numpy as np\n",
        "import dask.array as da\n",
        "from skimage.transform import resize"
      ]
    },
    {
      "cell_type": "code",
      "source": [
        "from google.colab import drive\n",
        "drive.mount('/content/drive')"
      ],
      "metadata": {
        "colab": {
          "base_uri": "https://localhost:8080/"
        },
        "id": "dA8-z90Mn_R1",
        "outputId": "84dae391-25b4-457e-80c0-70fc66d8cb14"
      },
      "execution_count": null,
      "outputs": [
        {
          "output_type": "stream",
          "name": "stdout",
          "text": [
            "Drive already mounted at /content/drive; to attempt to forcibly remount, call drive.mount(\"/content/drive\", force_remount=True).\n"
          ]
        }
      ]
    },
    {
      "cell_type": "code",
      "source": [
        "# !pip install keras-video-generators"
      ],
      "metadata": {
        "id": "PgqxgJUegesE"
      },
      "execution_count": null,
      "outputs": []
    },
    {
      "cell_type": "code",
      "source": [
        "import os\n",
        "import glob\n",
        "import keras\n",
        "\n",
        "from tensorflow.keras.utils import Sequence"
      ],
      "metadata": {
        "id": "SIwlesSPgt-U"
      },
      "execution_count": null,
      "outputs": []
    },
    {
      "cell_type": "code",
      "source": [
        "import cv2     # for capturing videos\n",
        "import math   # for mathematical operations\n",
        "import matplotlib.pyplot as plt    # for plotting the images\n",
        "%matplotlib inline\n",
        "import pandas as pd\n",
        "from keras.preprocessing import image   # for preprocessing the images\n",
        "import numpy as np    # for mathematical operations\n",
        "from keras.utils import np_utils\n",
        "from skimage.transform import resize   # for resizing images\n",
        "import os"
      ],
      "metadata": {
        "id": "_oUeykDChHph"
      },
      "execution_count": null,
      "outputs": []
    },
    {
      "cell_type": "code",
      "source": [
        "import tensorflow\n",
        "import keras\n",
        "from tensorflow.keras.datasets import mnist\n",
        "from tensorflow.keras.models import Sequential\n",
        "from tensorflow.keras.layers import Dense, Dropout, Flatten,BatchNormalization\n",
        "from tensorflow.keras.layers import Conv2D, MaxPooling2D, MaxPooling3D, Conv3D\n",
        "from tensorflow.keras import backend as K\n",
        "from tensorflow.keras import regularizers\n",
        "from keras.regularizers import l2"
      ],
      "metadata": {
        "id": "RZmninpvF84S"
      },
      "execution_count": null,
      "outputs": []
    },
    {
      "cell_type": "markdown",
      "source": [
        "# Importing Datasets"
      ],
      "metadata": {
        "id": "7HOtOzC4pHuu"
      }
    },
    {
      "cell_type": "code",
      "source": [
        "x_train = np.load(\"/content/drive/MyDrive/MScA - UChicago/Assignments/Quarter 3 - Spring 2022/Deep Learning/Data For Project/Frames_binary/x_train_vids.npy\")\n",
        "x_test = np.load(\"/content/drive/MyDrive/MScA - UChicago/Assignments/Quarter 3 - Spring 2022/Deep Learning/Data For Project/Frames_binary/x_test_vids.npy\")\n",
        "y_train = np.load(\"/content/drive/MyDrive/MScA - UChicago/Assignments/Quarter 3 - Spring 2022/Deep Learning/Data For Project/Frames_binary/y_train.npy\")\n",
        "y_test = np.load(\"/content/drive/MyDrive/MScA - UChicago/Assignments/Quarter 3 - Spring 2022/Deep Learning/Data For Project/Frames_binary/y_test.npy\")"
      ],
      "metadata": {
        "id": "_C2ldaTr6Zd5"
      },
      "execution_count": null,
      "outputs": []
    },
    {
      "cell_type": "markdown",
      "source": [
        "##Building the model"
      ],
      "metadata": {
        "id": "o8AW5tdKCmCC"
      }
    },
    {
      "cell_type": "code",
      "source": [
        "y_train = y_train[::4]\n",
        "y_train.shape\n",
        "\n",
        "y_test = y_test[::4]\n",
        "y_test.shape"
      ],
      "metadata": {
        "colab": {
          "base_uri": "https://localhost:8080/"
        },
        "id": "LejPjZcf8QRX",
        "outputId": "b5560e28-2559-4b37-bccb-5f265e97a350"
      },
      "execution_count": null,
      "outputs": [
        {
          "output_type": "execute_result",
          "data": {
            "text/plain": [
              "(246, 2)"
            ]
          },
          "metadata": {},
          "execution_count": 17
        }
      ]
    },
    {
      "cell_type": "code",
      "source": [
        "print(x_train.shape)\n",
        "print(x_test.shape)\n",
        "print(y_train.shape)\n",
        "print(y_test.shape)"
      ],
      "metadata": {
        "colab": {
          "base_uri": "https://localhost:8080/"
        },
        "id": "MTDj-soC8Fdz",
        "outputId": "285adc79-e482-4549-e671-4d4a4abc2e64"
      },
      "execution_count": null,
      "outputs": [
        {
          "output_type": "stream",
          "name": "stdout",
          "text": [
            "(576, 4, 120, 160, 3)\n",
            "(246, 4, 120, 160, 3)\n",
            "(576, 2)\n",
            "(246, 2)\n"
          ]
        }
      ]
    },
    {
      "cell_type": "code",
      "source": [
        "y_new_train = y_train_vids[:,0]\n",
        "y_new_test = y_test_vids[:,0]"
      ],
      "metadata": {
        "id": "Vy6H-2w_V3o2"
      },
      "execution_count": null,
      "outputs": []
    },
    {
      "cell_type": "code",
      "source": [
        "#MODEL ARCHITECTURE\n",
        "batch_size = 128\n",
        "num_classes = 2\n",
        "epochs = 20\n",
        "\n",
        "# input image dimensions\n",
        "img_rows, img_cols = 120, 160\n",
        "\n",
        "\n",
        "model = Sequential()\n",
        "\n",
        "model.add(Conv2D(32, kernel_size=(3, 3),\n",
        "                 activation='relu',\n",
        "                 input_shape=(4, img_rows, img_cols, 3)))\n",
        "\n",
        "model.add(Conv2D(32, (5, 5), activation='relu',  kernel_regularizer=l2(0.01)))\n",
        "model.add(MaxPooling3D(pool_size=(4, 2, 2),padding='SAME'))\n",
        "model.add(BatchNormalization())\n",
        "model.add(Dropout(0.25))\n",
        "\n",
        "\n",
        "model.add(Conv2D(64, (5, 5), activation='relu', kernel_regularizer=l2(0.01), padding = 'SAME'))\n",
        "model.add(MaxPooling3D(pool_size=(4, 2, 2), padding='SAME'))\n",
        "model.add(Dropout(0.25))\n",
        "\n",
        "\n",
        "model.add(Flatten())\n",
        "\n",
        "model.add(Dense(num_classes, activation='softmax'))"
      ],
      "metadata": {
        "id": "sgixI2-cCnmR"
      },
      "execution_count": null,
      "outputs": []
    },
    {
      "cell_type": "code",
      "source": [
        "model.summary()"
      ],
      "metadata": {
        "colab": {
          "base_uri": "https://localhost:8080/"
        },
        "id": "8eN2whFWGEDx",
        "outputId": "2157e901-e870-4d78-bc0c-4cfbf9e53cfe"
      },
      "execution_count": null,
      "outputs": [
        {
          "output_type": "stream",
          "name": "stdout",
          "text": [
            "Model: \"sequential\"\n",
            "_________________________________________________________________\n",
            " Layer (type)                Output Shape              Param #   \n",
            "=================================================================\n",
            " conv2d (Conv2D)             (None, 4, 118, 158, 32)   896       \n",
            "                                                                 \n",
            " conv2d_1 (Conv2D)           (None, 4, 114, 154, 32)   25632     \n",
            "                                                                 \n",
            " max_pooling3d (MaxPooling3D  (None, 1, 57, 77, 32)    0         \n",
            " )                                                               \n",
            "                                                                 \n",
            " batch_normalization (BatchN  (None, 1, 57, 77, 32)    128       \n",
            " ormalization)                                                   \n",
            "                                                                 \n",
            " dropout (Dropout)           (None, 1, 57, 77, 32)     0         \n",
            "                                                                 \n",
            " conv2d_2 (Conv2D)           (None, 1, 57, 77, 64)     51264     \n",
            "                                                                 \n",
            " max_pooling3d_1 (MaxPooling  (None, 1, 29, 39, 64)    0         \n",
            " 3D)                                                             \n",
            "                                                                 \n",
            " dropout_1 (Dropout)         (None, 1, 29, 39, 64)     0         \n",
            "                                                                 \n",
            " flatten (Flatten)           (None, 72384)             0         \n",
            "                                                                 \n",
            " dense (Dense)               (None, 2)                 144770    \n",
            "                                                                 \n",
            "=================================================================\n",
            "Total params: 222,690\n",
            "Trainable params: 222,626\n",
            "Non-trainable params: 64\n",
            "_________________________________________________________________\n"
          ]
        }
      ]
    },
    {
      "cell_type": "code",
      "source": [
        "model.compile(loss=keras.losses.categorical_crossentropy,\n",
        "              optimizer=tensorflow.keras.optimizers.Adam(learning_rate=0.01),\n",
        "              metrics=['accuracy'])"
      ],
      "metadata": {
        "id": "DewuzxnBGIUj"
      },
      "execution_count": null,
      "outputs": []
    },
    {
      "cell_type": "code",
      "source": [
        "history = model.fit(x_train_resized, y_train,\n",
        "          batch_size=batch_size,\n",
        "          epochs=epochs,\n",
        "          verbose=1,\n",
        "          validation_data=(x_test_resized, y_test),\n",
        "          callbacks=keras.callbacks.EarlyStopping(patience=10,restore_best_weights=True))"
      ],
      "metadata": {
        "colab": {
          "base_uri": "https://localhost:8080/"
        },
        "id": "ARRAsudCelyS",
        "outputId": "e5811451-8f63-45c3-85c4-509f53ed8004"
      },
      "execution_count": null,
      "outputs": [
        {
          "output_type": "stream",
          "name": "stdout",
          "text": [
            "Epoch 1/10\n",
            "18/18 [==============================] - 10s 388ms/step - loss: 27.7770 - accuracy: 0.4891 - val_loss: 3.0659 - val_accuracy: 0.3984\n",
            "Epoch 2/10\n",
            "18/18 [==============================] - 5s 307ms/step - loss: 3.1894 - accuracy: 0.5911 - val_loss: 3.0799 - val_accuracy: 0.6016\n",
            "Epoch 3/10\n",
            "18/18 [==============================] - 5s 264ms/step - loss: 4.1797 - accuracy: 0.5903 - val_loss: 3.0877 - val_accuracy: 0.6016\n",
            "Epoch 4/10\n",
            "18/18 [==============================] - 5s 264ms/step - loss: 2.9152 - accuracy: 0.6024 - val_loss: 2.6652 - val_accuracy: 0.6016\n",
            "Epoch 5/10\n",
            "18/18 [==============================] - 5s 308ms/step - loss: 2.4251 - accuracy: 0.6024 - val_loss: 2.1755 - val_accuracy: 0.6016\n",
            "Epoch 6/10\n",
            "18/18 [==============================] - 4s 239ms/step - loss: 1.9948 - accuracy: 0.6024 - val_loss: 1.8177 - val_accuracy: 0.6016\n",
            "Epoch 7/10\n",
            "18/18 [==============================] - 5s 309ms/step - loss: 1.6968 - accuracy: 0.6024 - val_loss: 1.5837 - val_accuracy: 0.6016\n",
            "Epoch 8/10\n",
            "18/18 [==============================] - 4s 197ms/step - loss: 1.5757 - accuracy: 0.5955 - val_loss: 1.5083 - val_accuracy: 0.6016\n",
            "Epoch 9/10\n",
            "18/18 [==============================] - 5s 284ms/step - loss: 1.5814 - accuracy: 0.6024 - val_loss: 1.6163 - val_accuracy: 0.6016\n",
            "Epoch 10/10\n",
            "18/18 [==============================] - 7s 409ms/step - loss: 1.5934 - accuracy: 0.6024 - val_loss: 1.5581 - val_accuracy: 0.6016\n"
          ]
        }
      ]
    }
  ]
}